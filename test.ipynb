{
 "cells": [
  {
   "cell_type": "code",
   "execution_count": null,
   "metadata": {},
   "outputs": [],
   "source": [
    "import pandas as pd"
   ]
  },
  {
   "cell_type": "code",
   "execution_count": null,
   "metadata": {},
   "outputs": [],
   "source": []
  },
  {
   "cell_type": "code",
   "execution_count": null,
   "metadata": {},
   "outputs": [],
   "source": [
    "df = pd.read_csv(r'C:\\Users\\yahya\\Whisper-MAY\\Dataset\\adapt.csv')"
   ]
  },
  {
   "cell_type": "code",
   "execution_count": null,
   "metadata": {},
   "outputs": [
    {
     "data": {
      "text/html": [
       "<div>\n",
       "<style scoped>\n",
       "    .dataframe tbody tr th:only-of-type {\n",
       "        vertical-align: middle;\n",
       "    }\n",
       "\n",
       "    .dataframe tbody tr th {\n",
       "        vertical-align: top;\n",
       "    }\n",
       "\n",
       "    .dataframe thead th {\n",
       "        text-align: right;\n",
       "    }\n",
       "</style>\n",
       "<table border=\"1\" class=\"dataframe\">\n",
       "  <thead>\n",
       "    <tr style=\"text-align: right;\">\n",
       "      <th></th>\n",
       "      <th>audio</th>\n",
       "      <th>transcript</th>\n",
       "    </tr>\n",
       "  </thead>\n",
       "  <tbody>\n",
       "    <tr>\n",
       "      <th>0</th>\n",
       "      <td>train_sample_0</td>\n",
       "      <td>على إنها عار في الوقت اللي كانت بتتعامل مع أخو...</td>\n",
       "    </tr>\n",
       "    <tr>\n",
       "      <th>1</th>\n",
       "      <td>train_sample_1</td>\n",
       "      <td>فأكيد ربنا عوضهم خير هو الراجل بيبقى ليه إختيا...</td>\n",
       "    </tr>\n",
       "    <tr>\n",
       "      <th>2</th>\n",
       "      <td>train_sample_2</td>\n",
       "      <td>زي دول كتيره بنشوفها النهارده في العالم وأصبحت...</td>\n",
       "    </tr>\n",
       "    <tr>\n",
       "      <th>3</th>\n",
       "      <td>train_sample_3</td>\n",
       "      <td>يعني مين اللي بيحط شروطها يعني أنا شايفه إني م...</td>\n",
       "    </tr>\n",
       "    <tr>\n",
       "      <th>4</th>\n",
       "      <td>train_sample_4</td>\n",
       "      <td>والله هي الموضوع مش كليب خلي بالك ولا أغنيه ال...</td>\n",
       "    </tr>\n",
       "    <tr>\n",
       "      <th>...</th>\n",
       "      <td>...</td>\n",
       "      <td>...</td>\n",
       "    </tr>\n",
       "    <tr>\n",
       "      <th>50710</th>\n",
       "      <td>train_sample_50710</td>\n",
       "      <td>كل شيء يعني وارد في ضوء احتياجات الناس وضوء ال...</td>\n",
       "    </tr>\n",
       "    <tr>\n",
       "      <th>50711</th>\n",
       "      <td>train_sample_50711</td>\n",
       "      <td>يلا خلينا نشجعهم بذمه ويرجعولنا منصورين فاصل و...</td>\n",
       "    </tr>\n",
       "    <tr>\n",
       "      <th>50712</th>\n",
       "      <td>train_sample_50712</td>\n",
       "      <td>و لا نقلل من قيمة ده فبالتالي منعرفش نستفيد من...</td>\n",
       "    </tr>\n",
       "    <tr>\n",
       "      <th>50713</th>\n",
       "      <td>train_sample_50713</td>\n",
       "      <td>نبع يجري للعبد أجرهن بعد موته وهو في قبره</td>\n",
       "    </tr>\n",
       "    <tr>\n",
       "      <th>50714</th>\n",
       "      <td>train_sample_50714</td>\n",
       "      <td>عائداتنا من تصدير الغاز الطبيعي أو هنقلل من ال...</td>\n",
       "    </tr>\n",
       "  </tbody>\n",
       "</table>\n",
       "<p>50715 rows × 2 columns</p>\n",
       "</div>"
      ],
      "text/plain": [
       "                    audio                                         transcript\n",
       "0          train_sample_0  على إنها عار في الوقت اللي كانت بتتعامل مع أخو...\n",
       "1          train_sample_1  فأكيد ربنا عوضهم خير هو الراجل بيبقى ليه إختيا...\n",
       "2          train_sample_2  زي دول كتيره بنشوفها النهارده في العالم وأصبحت...\n",
       "3          train_sample_3  يعني مين اللي بيحط شروطها يعني أنا شايفه إني م...\n",
       "4          train_sample_4  والله هي الموضوع مش كليب خلي بالك ولا أغنيه ال...\n",
       "...                   ...                                                ...\n",
       "50710  train_sample_50710  كل شيء يعني وارد في ضوء احتياجات الناس وضوء ال...\n",
       "50711  train_sample_50711  يلا خلينا نشجعهم بذمه ويرجعولنا منصورين فاصل و...\n",
       "50712  train_sample_50712  و لا نقلل من قيمة ده فبالتالي منعرفش نستفيد من...\n",
       "50713  train_sample_50713          نبع يجري للعبد أجرهن بعد موته وهو في قبره\n",
       "50714  train_sample_50714  عائداتنا من تصدير الغاز الطبيعي أو هنقلل من ال...\n",
       "\n",
       "[50715 rows x 2 columns]"
      ]
     },
     "execution_count": 4,
     "metadata": {},
     "output_type": "execute_result"
    }
   ],
   "source": [
    "df"
   ]
  },
  {
   "cell_type": "code",
   "execution_count": 5,
   "metadata": {},
   "outputs": [
    {
     "name": "stdout",
     "output_type": "stream",
     "text": [
      "<class 'pandas.core.frame.DataFrame'>\n",
      "RangeIndex: 50715 entries, 0 to 50714\n",
      "Data columns (total 2 columns):\n",
      " #   Column      Non-Null Count  Dtype \n",
      "---  ------      --------------  ----- \n",
      " 0   audio       50715 non-null  object\n",
      " 1   transcript  50709 non-null  object\n",
      "dtypes: object(2)\n",
      "memory usage: 792.6+ KB\n"
     ]
    }
   ],
   "source": [
    "df.info()"
   ]
  },
  {
   "cell_type": "code",
   "execution_count": 6,
   "metadata": {},
   "outputs": [
    {
     "data": {
      "text/html": [
       "<div>\n",
       "<style scoped>\n",
       "    .dataframe tbody tr th:only-of-type {\n",
       "        vertical-align: middle;\n",
       "    }\n",
       "\n",
       "    .dataframe tbody tr th {\n",
       "        vertical-align: top;\n",
       "    }\n",
       "\n",
       "    .dataframe thead th {\n",
       "        text-align: right;\n",
       "    }\n",
       "</style>\n",
       "<table border=\"1\" class=\"dataframe\">\n",
       "  <thead>\n",
       "    <tr style=\"text-align: right;\">\n",
       "      <th></th>\n",
       "      <th>audio</th>\n",
       "      <th>transcript</th>\n",
       "    </tr>\n",
       "  </thead>\n",
       "  <tbody>\n",
       "    <tr>\n",
       "      <th>count</th>\n",
       "      <td>50715</td>\n",
       "      <td>50709</td>\n",
       "    </tr>\n",
       "    <tr>\n",
       "      <th>unique</th>\n",
       "      <td>50715</td>\n",
       "      <td>50653</td>\n",
       "    </tr>\n",
       "    <tr>\n",
       "      <th>top</th>\n",
       "      <td>train_sample_0</td>\n",
       "      <td>خلاص</td>\n",
       "    </tr>\n",
       "    <tr>\n",
       "      <th>freq</th>\n",
       "      <td>1</td>\n",
       "      <td>4</td>\n",
       "    </tr>\n",
       "  </tbody>\n",
       "</table>\n",
       "</div>"
      ],
      "text/plain": [
       "                 audio transcript\n",
       "count            50715      50709\n",
       "unique           50715      50653\n",
       "top     train_sample_0       خلاص\n",
       "freq                 1          4"
      ]
     },
     "execution_count": 6,
     "metadata": {},
     "output_type": "execute_result"
    }
   ],
   "source": [
    "df.describe()"
   ]
  },
  {
   "cell_type": "code",
   "execution_count": 15,
   "metadata": {},
   "outputs": [
    {
     "data": {
      "text/plain": [
       "14"
      ]
     },
     "execution_count": 15,
     "metadata": {},
     "output_type": "execute_result"
    }
   ],
   "source": [
    "len(df.transcript[0].split())"
   ]
  },
  {
   "cell_type": "code",
   "execution_count": 61,
   "metadata": {},
   "outputs": [],
   "source": [
    "df['numb']= df['transcript'].map(lambda x : len(str(x).split()))"
   ]
  },
  {
   "cell_type": "code",
   "execution_count": 62,
   "metadata": {},
   "outputs": [
    {
     "data": {
      "text/plain": [
       "48"
      ]
     },
     "execution_count": 62,
     "metadata": {},
     "output_type": "execute_result"
    }
   ],
   "source": [
    "df.numb.max()"
   ]
  },
  {
   "cell_type": "code",
   "execution_count": 63,
   "metadata": {},
   "outputs": [
    {
     "data": {
      "text/plain": [
       "1"
      ]
     },
     "execution_count": 63,
     "metadata": {},
     "output_type": "execute_result"
    }
   ],
   "source": [
    "df.numb.min()"
   ]
  },
  {
   "cell_type": "code",
   "execution_count": 83,
   "metadata": {},
   "outputs": [
    {
     "data": {
      "text/html": [
       "<div>\n",
       "<style scoped>\n",
       "    .dataframe tbody tr th:only-of-type {\n",
       "        vertical-align: middle;\n",
       "    }\n",
       "\n",
       "    .dataframe tbody tr th {\n",
       "        vertical-align: top;\n",
       "    }\n",
       "\n",
       "    .dataframe thead th {\n",
       "        text-align: right;\n",
       "    }\n",
       "</style>\n",
       "<table border=\"1\" class=\"dataframe\">\n",
       "  <thead>\n",
       "    <tr style=\"text-align: right;\">\n",
       "      <th></th>\n",
       "      <th>audio</th>\n",
       "      <th>transcript</th>\n",
       "      <th>numb</th>\n",
       "    </tr>\n",
       "  </thead>\n",
       "  <tbody>\n",
       "    <tr>\n",
       "      <th>0</th>\n",
       "      <td>train_sample_0</td>\n",
       "      <td>على إنها عار في الوقت اللي كانت بتتعامل مع أخو...</td>\n",
       "      <td>14</td>\n",
       "    </tr>\n",
       "    <tr>\n",
       "      <th>1</th>\n",
       "      <td>train_sample_1</td>\n",
       "      <td>فأكيد ربنا عوضهم خير هو الراجل بيبقى ليه إختيا...</td>\n",
       "      <td>19</td>\n",
       "    </tr>\n",
       "    <tr>\n",
       "      <th>2</th>\n",
       "      <td>train_sample_2</td>\n",
       "      <td>زي دول كتيره بنشوفها النهارده في العالم وأصبحت...</td>\n",
       "      <td>13</td>\n",
       "    </tr>\n",
       "    <tr>\n",
       "      <th>3</th>\n",
       "      <td>train_sample_3</td>\n",
       "      <td>يعني مين اللي بيحط شروطها يعني أنا شايفه إني م...</td>\n",
       "      <td>12</td>\n",
       "    </tr>\n",
       "    <tr>\n",
       "      <th>4</th>\n",
       "      <td>train_sample_4</td>\n",
       "      <td>والله هي الموضوع مش كليب خلي بالك ولا أغنيه ال...</td>\n",
       "      <td>21</td>\n",
       "    </tr>\n",
       "    <tr>\n",
       "      <th>...</th>\n",
       "      <td>...</td>\n",
       "      <td>...</td>\n",
       "      <td>...</td>\n",
       "    </tr>\n",
       "    <tr>\n",
       "      <th>50710</th>\n",
       "      <td>train_sample_50710</td>\n",
       "      <td>كل شيء يعني وارد في ضوء احتياجات الناس وضوء ال...</td>\n",
       "      <td>15</td>\n",
       "    </tr>\n",
       "    <tr>\n",
       "      <th>50711</th>\n",
       "      <td>train_sample_50711</td>\n",
       "      <td>يلا خلينا نشجعهم بذمه ويرجعولنا منصورين فاصل و...</td>\n",
       "      <td>11</td>\n",
       "    </tr>\n",
       "    <tr>\n",
       "      <th>50712</th>\n",
       "      <td>train_sample_50712</td>\n",
       "      <td>و لا نقلل من قيمة ده فبالتالي منعرفش نستفيد من...</td>\n",
       "      <td>13</td>\n",
       "    </tr>\n",
       "    <tr>\n",
       "      <th>50713</th>\n",
       "      <td>train_sample_50713</td>\n",
       "      <td>نبع يجري للعبد أجرهن بعد موته وهو في قبره</td>\n",
       "      <td>9</td>\n",
       "    </tr>\n",
       "    <tr>\n",
       "      <th>50714</th>\n",
       "      <td>train_sample_50714</td>\n",
       "      <td>عائداتنا من تصدير الغاز الطبيعي أو هنقلل من ال...</td>\n",
       "      <td>17</td>\n",
       "    </tr>\n",
       "  </tbody>\n",
       "</table>\n",
       "<p>50464 rows × 3 columns</p>\n",
       "</div>"
      ],
      "text/plain": [
       "                    audio                                         transcript  \\\n",
       "0          train_sample_0  على إنها عار في الوقت اللي كانت بتتعامل مع أخو...   \n",
       "1          train_sample_1  فأكيد ربنا عوضهم خير هو الراجل بيبقى ليه إختيا...   \n",
       "2          train_sample_2  زي دول كتيره بنشوفها النهارده في العالم وأصبحت...   \n",
       "3          train_sample_3  يعني مين اللي بيحط شروطها يعني أنا شايفه إني م...   \n",
       "4          train_sample_4  والله هي الموضوع مش كليب خلي بالك ولا أغنيه ال...   \n",
       "...                   ...                                                ...   \n",
       "50710  train_sample_50710  كل شيء يعني وارد في ضوء احتياجات الناس وضوء ال...   \n",
       "50711  train_sample_50711  يلا خلينا نشجعهم بذمه ويرجعولنا منصورين فاصل و...   \n",
       "50712  train_sample_50712  و لا نقلل من قيمة ده فبالتالي منعرفش نستفيد من...   \n",
       "50713  train_sample_50713          نبع يجري للعبد أجرهن بعد موته وهو في قبره   \n",
       "50714  train_sample_50714  عائداتنا من تصدير الغاز الطبيعي أو هنقلل من ال...   \n",
       "\n",
       "       numb  \n",
       "0        14  \n",
       "1        19  \n",
       "2        13  \n",
       "3        12  \n",
       "4        21  \n",
       "...     ...  \n",
       "50710    15  \n",
       "50711    11  \n",
       "50712    13  \n",
       "50713     9  \n",
       "50714    17  \n",
       "\n",
       "[50464 rows x 3 columns]"
      ]
     },
     "execution_count": 83,
     "metadata": {},
     "output_type": "execute_result"
    }
   ],
   "source": [
    "df.query('numb <= 32')"
   ]
  },
  {
   "cell_type": "code",
   "execution_count": null,
   "metadata": {},
   "outputs": [
    {
     "data": {
      "text/html": [
       "<div>\n",
       "<style scoped>\n",
       "    .dataframe tbody tr th:only-of-type {\n",
       "        vertical-align: middle;\n",
       "    }\n",
       "\n",
       "    .dataframe tbody tr th {\n",
       "        vertical-align: top;\n",
       "    }\n",
       "\n",
       "    .dataframe thead th {\n",
       "        text-align: right;\n",
       "    }\n",
       "</style>\n",
       "<table border=\"1\" class=\"dataframe\">\n",
       "  <thead>\n",
       "    <tr style=\"text-align: right;\">\n",
       "      <th></th>\n",
       "      <th>numb</th>\n",
       "    </tr>\n",
       "  </thead>\n",
       "  <tbody>\n",
       "    <tr>\n",
       "      <th>count</th>\n",
       "      <td>50464.000000</td>\n",
       "    </tr>\n",
       "    <tr>\n",
       "      <th>mean</th>\n",
       "      <td>13.244293</td>\n",
       "    </tr>\n",
       "    <tr>\n",
       "      <th>std</th>\n",
       "      <td>5.203095</td>\n",
       "    </tr>\n",
       "    <tr>\n",
       "      <th>min</th>\n",
       "      <td>1.000000</td>\n",
       "    </tr>\n",
       "    <tr>\n",
       "      <th>25%</th>\n",
       "      <td>9.000000</td>\n",
       "    </tr>\n",
       "    <tr>\n",
       "      <th>50%</th>\n",
       "      <td>13.000000</td>\n",
       "    </tr>\n",
       "    <tr>\n",
       "      <th>75%</th>\n",
       "      <td>17.000000</td>\n",
       "    </tr>\n",
       "    <tr>\n",
       "      <th>max</th>\n",
       "      <td>29.000000</td>\n",
       "    </tr>\n",
       "  </tbody>\n",
       "</table>\n",
       "</div>"
      ],
      "text/plain": [
       "               numb\n",
       "count  50464.000000\n",
       "mean      13.244293\n",
       "std        5.203095\n",
       "min        1.000000\n",
       "25%        9.000000\n",
       "50%       13.000000\n",
       "75%       17.000000\n",
       "max       29.000000"
      ]
     },
     "execution_count": 79,
     "metadata": {},
     "output_type": "execute_result"
    }
   ],
   "source": [
    "df.describe()"
   ]
  },
  {
   "cell_type": "code",
   "execution_count": null,
   "metadata": {},
   "outputs": [],
   "source": []
  }
 ],
 "metadata": {
  "kernelspec": {
   "display_name": "College",
   "language": "python",
   "name": "python3"
  },
  "language_info": {
   "codemirror_mode": {
    "name": "ipython",
    "version": 3
   },
   "file_extension": ".py",
   "mimetype": "text/x-python",
   "name": "python",
   "nbconvert_exporter": "python",
   "pygments_lexer": "ipython3",
   "version": "3.12.3"
  }
 },
 "nbformat": 4,
 "nbformat_minor": 2
}
